{
  "nbformat": 4,
  "nbformat_minor": 0,
  "metadata": {
    "colab": {
      "provenance": [],
      "authorship_tag": "ABX9TyPkkO6a76AEWqrbewTkh78k",
      "include_colab_link": true
    },
    "kernelspec": {
      "name": "python3",
      "display_name": "Python 3"
    },
    "language_info": {
      "name": "python"
    }
  },
  "cells": [
    {
      "cell_type": "markdown",
      "metadata": {
        "id": "view-in-github",
        "colab_type": "text"
      },
      "source": [
        "<a href=\"https://colab.research.google.com/github/Saloni1707/TrainModel/blob/main/DecisionTreesSklearn.ipynb\" target=\"_parent\"><img src=\"https://colab.research.google.com/assets/colab-badge.svg\" alt=\"Open In Colab\"/></a>"
      ]
    },
    {
      "cell_type": "markdown",
      "source": [
        "<h2>This is the Decision Tree using the sklearn</h2>"
      ],
      "metadata": {
        "id": "RMLKKf98Pkf0"
      }
    },
    {
      "cell_type": "code",
      "source": [
        "#Tree building algorithm\n",
        "# def build(L):\n",
        "#   create node t\n",
        "#   if the stopping criterion is True:\n",
        "#     assign a predictive model to t\n",
        "#   else:\n",
        "#     Find the best binary split L = L_left + L_right\n",
        "#     t.left = build(L_left)\n",
        "#     t.right = build(L_right)\n",
        "#   return t"
      ],
      "metadata": {
        "id": "_emKlWWsPuo-"
      },
      "execution_count": 3,
      "outputs": []
    }
  ]
}