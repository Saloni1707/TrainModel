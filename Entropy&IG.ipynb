{
  "nbformat": 4,
  "nbformat_minor": 0,
  "metadata": {
    "colab": {
      "provenance": [],
      "authorship_tag": "ABX9TyOWEYx4PEiIMp3zP+32cHNL",
      "include_colab_link": true
    },
    "kernelspec": {
      "name": "python3",
      "display_name": "Python 3"
    },
    "language_info": {
      "name": "python"
    }
  },
  "cells": [
    {
      "cell_type": "markdown",
      "metadata": {
        "id": "view-in-github",
        "colab_type": "text"
      },
      "source": [
        "<a href=\"https://colab.research.google.com/github/Saloni1707/TrainModel/blob/main/Entropy%26IG.ipynb\" target=\"_parent\"><img src=\"https://colab.research.google.com/assets/colab-badge.svg\" alt=\"Open In Colab\"/></a>"
      ]
    },
    {
      "cell_type": "code",
      "execution_count": 5,
      "metadata": {
        "id": "oLX0D3TZdeYr"
      },
      "outputs": [],
      "source": [
        "#Shanon Entropy from scratch\n",
        "import math\n",
        "from collections import Counter\n",
        "\n",
        "def entropy(a_list):\n",
        "  total = len(a_list)\n",
        "  if total==0:\n",
        "    return 0\n",
        "  cnt=Counter(a_list)\n",
        "  entropy=0.0\n",
        "  for c in cnt.values():\n",
        "    p = c/total\n",
        "    entropy -=p*math.log2(p)\n",
        "  return entropy"
      ]
    },
    {
      "cell_type": "code",
      "source": [
        "books=['blue']*9 + ['yellow']*11\n",
        "books_left=['blue']*8 + ['yellow']*5\n",
        "books_right=['blue']*1 + ['yellow']*6\n",
        "fair_die=[1,2,3,4,5,6]"
      ],
      "metadata": {
        "id": "gzTcdNRhexY4"
      },
      "execution_count": 6,
      "outputs": []
    },
    {
      "cell_type": "code",
      "source": [
        "print(entropy(books))\n",
        "print(entropy(books_left))"
      ],
      "metadata": {
        "colab": {
          "base_uri": "https://localhost:8080/"
        },
        "id": "Yi7ID68kfT2Y",
        "outputId": "f92cdc45-ac7c-4a47-98c6-5867c17f2fa4"
      },
      "execution_count": 7,
      "outputs": [
        {
          "output_type": "stream",
          "name": "stdout",
          "text": [
            "0.9927744539878083\n",
            "0.9612366047228759\n"
          ]
        }
      ]
    },
    {
      "cell_type": "code",
      "source": [
        "#Information Gain\n",
        "def info_gain(root,left,right):\n",
        "  total=len(root)\n",
        "  if total==0:\n",
        "    return 0\n",
        "  wt_left=len(left)/total\n",
        "  wt_right=len(right)/total\n",
        "  return entropy(root)-(wt_left*entropy(left)+wt_right*entropy(right))"
      ],
      "metadata": {
        "id": "_2tQwDTmfhg2"
      },
      "execution_count": 8,
      "outputs": []
    },
    {
      "cell_type": "code",
      "source": [
        "print(info_gain(books,books_left,books_right))"
      ],
      "metadata": {
        "colab": {
          "base_uri": "https://localhost:8080/"
        },
        "id": "CW_5dznbgEPC",
        "outputId": "6f3a4df1-e2fa-4ead-dbc1-fa83d42a136c"
      },
      "execution_count": 9,
      "outputs": [
        {
          "output_type": "stream",
          "name": "stdout",
          "text": [
            "0.16088518841412436\n"
          ]
        }
      ]
    }
  ]
}