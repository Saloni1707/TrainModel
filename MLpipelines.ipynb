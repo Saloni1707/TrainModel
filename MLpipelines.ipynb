{
  "nbformat": 4,
  "nbformat_minor": 0,
  "metadata": {
    "colab": {
      "provenance": [],
      "authorship_tag": "ABX9TyOKnt2aaG1M7EZRvjaEjjpr",
      "include_colab_link": true
    },
    "kernelspec": {
      "name": "python3",
      "display_name": "Python 3"
    },
    "language_info": {
      "name": "python"
    }
  },
  "cells": [
    {
      "cell_type": "markdown",
      "metadata": {
        "id": "view-in-github",
        "colab_type": "text"
      },
      "source": [
        "<a href=\"https://colab.research.google.com/github/Saloni1707/TrainModel/blob/main/MLpipelines.ipynb\" target=\"_parent\"><img src=\"https://colab.research.google.com/assets/colab-badge.svg\" alt=\"Open In Colab\"/></a>"
      ]
    },
    {
      "cell_type": "code",
      "source": [
        "!pip install mlflow\n"
      ],
      "metadata": {
        "id": "crkViJS63n8q"
      },
      "execution_count": null,
      "outputs": []
    },
    {
      "cell_type": "code",
      "execution_count": 3,
      "metadata": {
        "id": "o1amUOKC2nqP"
      },
      "outputs": [],
      "source": [
        "import mlflow\n",
        "import mlflow.sklearn\n",
        "from sklearn.pipeline import Pipeline\n",
        "from sklearn.feature_extraction.text import TfidfVectorizer\n",
        "from sklearn.linear_model import LogisticRegression\n",
        "from sklearn.model_selection import train_test_split\n",
        "from sklearn.metrics import accuracy_score"
      ]
    },
    {
      "cell_type": "code",
      "source": [
        "texts=[\n",
        "    \"Win money now!!!\",\n",
        "    \"Hello,How are you?\",\n",
        "    \"Limited offer,click here\",\n",
        "    \"Let's meet tomorrow\",\n",
        "    \"Free gift card just for you\"\n",
        "]\n",
        "\n",
        "labels = [1,0,1,0,1]\n",
        "\n",
        "X_train,X_test,y_train,y_test = train_test_split(texts,labels,test_size=0.3,random_state=42)\n",
        "\n",
        "pipeline = Pipeline([\n",
        "    (\"vectorizer\",TfidfVectorizer()),\n",
        "    (\"classifier\",LogisticRegression())\n",
        "])\n",
        "\n",
        "with mlflow.start_run():\n",
        "  pipeline.fit(X_train,y_train)\n",
        "  y_pred = pipeline.predict(X_test)\n",
        "  acc = accuracy_score(y_test,y_pred)\n",
        "  print(\"Accuracy:\",acc)\n",
        "  mlflow.log_metric(\"Accuracy\",acc)\n",
        "  mlflow.sklearn.log_model(pipeline,\"spam_classifier\")\n",
        "\n",
        "print(\"Model logged to MLflow!\")"
      ],
      "metadata": {
        "colab": {
          "base_uri": "https://localhost:8080/"
        },
        "id": "l1jBN6C133Hs",
        "outputId": "04a6ea3e-4d6f-4de0-acb0-1b4be4aa4ae7"
      },
      "execution_count": 9,
      "outputs": [
        {
          "output_type": "stream",
          "name": "stderr",
          "text": [
            "2025/09/02 14:48:25 WARNING mlflow.models.model: `artifact_path` is deprecated. Please use `name` instead.\n"
          ]
        },
        {
          "output_type": "stream",
          "name": "stdout",
          "text": [
            "Accuracy: 0.5\n"
          ]
        },
        {
          "output_type": "stream",
          "name": "stderr",
          "text": [
            "\u001b[31m2025/09/02 14:48:33 WARNING mlflow.models.model: Model logged without a signature and input example. Please set `input_example` parameter when logging the model to auto infer the model signature.\u001b[0m\n"
          ]
        },
        {
          "output_type": "stream",
          "name": "stdout",
          "text": [
            "Model logged to MLflow!\n"
          ]
        }
      ]
    }
  ]
}