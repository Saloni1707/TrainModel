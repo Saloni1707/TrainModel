{
  "nbformat": 4,
  "nbformat_minor": 0,
  "metadata": {
    "colab": {
      "provenance": [],
      "gpuType": "T4",
      "authorship_tag": "ABX9TyMrUvV72CA4vCPngOTirqj0",
      "include_colab_link": true
    },
    "kernelspec": {
      "name": "python3",
      "display_name": "Python 3"
    },
    "language_info": {
      "name": "python"
    },
    "accelerator": "GPU"
  },
  "cells": [
    {
      "cell_type": "markdown",
      "metadata": {
        "id": "view-in-github",
        "colab_type": "text"
      },
      "source": [
        "<a href=\"https://colab.research.google.com/github/Saloni1707/TrainModel/blob/main/RL.ipynb\" target=\"_parent\"><img src=\"https://colab.research.google.com/assets/colab-badge.svg\" alt=\"Open In Colab\"/></a>"
      ]
    },
    {
      "cell_type": "code",
      "execution_count": null,
      "metadata": {
        "id": "CiQUkAYjyWpB"
      },
      "outputs": [],
      "source": [
        "import math\n",
        "import random\n",
        "from dataclasses import dataclass\n",
        "from typing import List,Tuple,Optional\n",
        "import numpy as np\n",
        "import matplotlib.pyplot as plt"
      ]
    },
    {
      "cell_type": "code",
      "source": [
        "#basic math\n",
        "@dataclass\n",
        "class Vector2D:\n",
        "  x:float\n",
        "  y:float\n",
        "  def __add__(self,other):\n",
        "    return Vector2D(self.x+other.x,self.y+other.y)\n",
        "  def __sub__(self,other):\n",
        "    return Vector2D(self.x-other.x,self.y-other.y)\n",
        "  def __mul__(self,scalar):\n",
        "    return Vector2D(self.x*scalar,self.y*scalar)\n",
        "  def magnitude(self):\n",
        "    return math.sqrt(self.x**2+self.y**2)\n",
        "  def normalize(self):\n",
        "    mag = self.magnitude()\n",
        "    if mag == 0:\n",
        "      return Vector2D(0,0)\n",
        "    return Vector2D(self.x/mag,self.y/mag)\n",
        "  def rotate(self,angle_rad:float):\n",
        "    cos_a=math.cos(angle_rad)\n",
        "    sin_a=math.sin(angle_rad)\n",
        "    return Vector2D(\n",
        "        self.x*cos_a-self.y*sin_a,\n",
        "        self.x*sin_a + self.y*cos_a\n",
        "    )\n",
        "    def to_array(self):\n",
        "      return np.array([self.x,self.y])\n",
        "print(\"Vector Math Test\")\n",
        "v1=Vector2D(1,0)\n",
        "v2=v1.rotate(math.pi/2)\n",
        "print(f\"Orginal:({v1.x:.2f},{v1.y:.2f})\")\n",
        "print(f\"Rotated:({v2.x:.2f},{v2.y:.2f})\")\n",
        "print(f\"Magnitude: {v1.magnitude():.2f}\")\n"
      ],
      "metadata": {
        "colab": {
          "base_uri": "https://localhost:8080/"
        },
        "id": "Xb8inS2ZM8Gz",
        "outputId": "54b2715b-6dfc-4443-f5b8-9212c05acaf5"
      },
      "execution_count": null,
      "outputs": [
        {
          "output_type": "stream",
          "name": "stdout",
          "text": [
            "Vector Math Test\n",
            "Orginal:(1.00,0.00)\n",
            "Rotated:(0.00,1.00)\n",
            "Magnitude: 1.00\n"
          ]
        }
      ]
    }
  ]
}