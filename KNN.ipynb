{
  "nbformat": 4,
  "nbformat_minor": 0,
  "metadata": {
    "colab": {
      "provenance": [],
      "authorship_tag": "ABX9TyPJcZFz9slDQtZXA9dDZQhI",
      "include_colab_link": true
    },
    "kernelspec": {
      "name": "python3",
      "display_name": "Python 3"
    },
    "language_info": {
      "name": "python"
    }
  },
  "cells": [
    {
      "cell_type": "markdown",
      "metadata": {
        "id": "view-in-github",
        "colab_type": "text"
      },
      "source": [
        "<a href=\"https://colab.research.google.com/github/Saloni1707/TrainModel/blob/main/KNN.ipynb\" target=\"_parent\"><img src=\"https://colab.research.google.com/assets/colab-badge.svg\" alt=\"Open In Colab\"/></a>"
      ]
    },
    {
      "cell_type": "markdown",
      "source": [
        "<h1>K-nearest neighbour Algorithm</h1>\n"
      ],
      "metadata": {
        "id": "7-gbBIx4_xKZ"
      }
    },
    {
      "cell_type": "code",
      "source": [
        "import numpy as np\n",
        "from collections import Counter"
      ],
      "metadata": {
        "id": "KAMaubWi_u0O"
      },
      "execution_count": 1,
      "outputs": []
    },
    {
      "cell_type": "code",
      "source": [
        "X_train = np.array([\n",
        "    [170,65],\n",
        "    [180,70],\n",
        "    [160,60],\n",
        "    [155,50],\n",
        "    [165,45],\n",
        "    [180,50]\n",
        "])\n",
        "\n",
        "y_train = np.array([0,0,0,1,1,1])"
      ],
      "metadata": {
        "id": "pmyjgXDGBiCd"
      },
      "execution_count": 2,
      "outputs": []
    },
    {
      "cell_type": "code",
      "source": [
        "class KNNclassifier:\n",
        "  def __init__(self,k=3):\n",
        "    self.k = k\n",
        "\n",
        "  def fit(self,X,y):\n",
        "    self.X_train = X\n",
        "    self.y_train = y\n",
        "\n",
        "  def euclidean_distance(self,x1,x2):\n",
        "    return np.sqrt(np.sum((x1-x2)**2))\n",
        "\n",
        "  def predict(self,X):\n",
        "    predictions =[self._predict(x) for x in X]\n",
        "    return np.array(predictions)\n",
        "\n",
        "  def _predict(self,x):\n",
        "    distances = [self.euclidean_distance(x,x_train) for x_train in self.X_train]\n",
        "    k_indices = np.argsort(distances)[:self.k]\n",
        "    k_nearest_labels = [self.y_train[i] for i in k_indices]\n",
        "    k_nearest_labels = [self.y_train[i] for i in k_indices]\n",
        "\n",
        "    most_common = Counter(k_nearest_labels).most_common(1)\n",
        "    return most_common[0][0]"
      ],
      "metadata": {
        "id": "J3wCJ2d3B32N"
      },
      "execution_count": 9,
      "outputs": []
    },
    {
      "cell_type": "code",
      "source": [
        "knn = KNNclassifier(k=3)\n",
        "knn.fit(X_train,y_train)\n",
        "X_test = np.array([[167,55]])\n",
        "prediction = knn.predict(X_test)\n",
        "\n",
        "print(\"Predicted class:\",prediction[0])"
      ],
      "metadata": {
        "colab": {
          "base_uri": "https://localhost:8080/"
        },
        "id": "AtJ8KED5DCLk",
        "outputId": "b8c134dd-40d4-4d54-d413-26ab985fde60"
      },
      "execution_count": 10,
      "outputs": [
        {
          "output_type": "stream",
          "name": "stdout",
          "text": [
            "Predicted class: 0\n"
          ]
        }
      ]
    }
  ]
}