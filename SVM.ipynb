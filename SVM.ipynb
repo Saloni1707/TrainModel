{
  "nbformat": 4,
  "nbformat_minor": 0,
  "metadata": {
    "colab": {
      "provenance": [],
      "authorship_tag": "ABX9TyNP3WFAffWKI29DrD2sZuO4",
      "include_colab_link": true
    },
    "kernelspec": {
      "name": "python3",
      "display_name": "Python 3"
    },
    "language_info": {
      "name": "python"
    }
  },
  "cells": [
    {
      "cell_type": "markdown",
      "metadata": {
        "id": "view-in-github",
        "colab_type": "text"
      },
      "source": [
        "<a href=\"https://colab.research.google.com/github/Saloni1707/TrainModel/blob/main/SVM.ipynb\" target=\"_parent\"><img src=\"https://colab.research.google.com/assets/colab-badge.svg\" alt=\"Open In Colab\"/></a>"
      ]
    },
    {
      "cell_type": "markdown",
      "source": [
        "<h2>Using the sklearn</h2>"
      ],
      "metadata": {
        "id": "4dHr9QbkOnqy"
      }
    },
    {
      "cell_type": "code",
      "source": [
        "from sklearn import datasets\n",
        "from sklearn.model_selection import train_test_split\n",
        "from sklearn.preprocessing import StandardScaler\n",
        "from sklearn.metrics import accuracy_score,classification_report\n",
        "from sklearn.svm import SVC\n",
        "\n",
        "data = datasets.load_breast_cancer()\n",
        "X,y = data.data,data.target\n",
        "\n",
        "scaler = StandardScaler()\n",
        "X = scaler.fit_transform(X)\n",
        "\n",
        "X_train, X_test,y_train,y_test = train_test_split(X,y,test_size=0.3,random_state=42)\n",
        "\n",
        "model = SVC(C=10,gamma=0.1,kernel='rbf') #our hyperparameters\n",
        "model.fit(X_train,y_train)\n",
        "\n",
        "y_pred = model.predict(X_test)\n",
        "\n",
        "print(\"Accuracy: \",accuracy_score(y_test,y_pred))\n",
        "print(\"\\nClassification:\\n\",classification_report(y_test,y_pred))"
      ],
      "metadata": {
        "colab": {
          "base_uri": "https://localhost:8080/"
        },
        "id": "ayuyAjNRI28i",
        "outputId": "f6097f40-01fc-44bb-ab57-111c92fe9fa2"
      },
      "execution_count": 13,
      "outputs": [
        {
          "output_type": "stream",
          "name": "stdout",
          "text": [
            "Accuracy:  0.9532163742690059\n",
            "\n",
            "Classification:\n",
            "               precision    recall  f1-score   support\n",
            "\n",
            "           0       0.92      0.95      0.94        63\n",
            "           1       0.97      0.95      0.96       108\n",
            "\n",
            "    accuracy                           0.95       171\n",
            "   macro avg       0.95      0.95      0.95       171\n",
            "weighted avg       0.95      0.95      0.95       171\n",
            "\n"
          ]
        }
      ]
    },
    {
      "cell_type": "markdown",
      "source": [
        "<h2>**SVM from scratch**</h2>"
      ],
      "metadata": {
        "id": "7S_N88xMOuvD"
      }
    },
    {
      "cell_type": "code",
      "source": [
        "import numpy as np\n",
        "from sklearn import datasets\n",
        "from sklearn.model_selection import train_test_split\n",
        "from sklearn.preprocessing import StandardScaler\n",
        "\n",
        "data = datasets.load_breast_cancer()\n",
        "X,y = data.data,data.target\n",
        "\n",
        "y = np.where(y==0,-1,1)\n",
        "\n",
        "scaler = StandardScaler()\n",
        "X = scaler.fit_transform(X)\n",
        "\n",
        "X_train,X_test,y_train,y_test = train_test_split(X,y,test_size=0.3,random_state=42)\n"
      ],
      "metadata": {
        "id": "7ftRt_B7O1e9"
      },
      "execution_count": 14,
      "outputs": []
    },
    {
      "cell_type": "code",
      "source": [
        "class LinearSVM:\n",
        "  def __init__(self,lr=0.001,lambda_param=0.01,n_iter=1000):\n",
        "    self.lr = lr\n",
        "    self.lambda_param = lambda_param\n",
        "    self.n_iter = n_iter\n",
        "    self.w = None\n",
        "    self.b = None\n",
        "\n",
        "  def fit(self,X,y):\n",
        "    n_samples,n_features = X.shape\n",
        "    self.w = np.zeros(n_features)\n",
        "    self.b = 0\n",
        "\n",
        "    for _ in range(self.n_iter):\n",
        "      for i , x in enumerate(X):\n",
        "        condition = y[i] * (np.dot(x,self.w) + self.b) >=1\n",
        "        if condition:\n",
        "          self.w -= self.lr * (2 * self.lambda_param * self.w)\n",
        "        else:\n",
        "          self.w -= self.lr * (2* self.lambda_param * self.w - np.dot(x,y[i]))\n",
        "          self.b -= self.lr * y[i]\n",
        "\n",
        "  def predict(self,X):\n",
        "    return np.sign(np.dot(X,self.w) + self.b)"
      ],
      "metadata": {
        "id": "uquxLa7bQEsl"
      },
      "execution_count": 18,
      "outputs": []
    },
    {
      "cell_type": "code",
      "source": [
        "def accuracy_score(y_true,y_pred):\n",
        "  return np.mean(y_true == y_pred)"
      ],
      "metadata": {
        "id": "NXAt5qsrTDjk"
      },
      "execution_count": 21,
      "outputs": []
    },
    {
      "cell_type": "code",
      "source": [
        "svm = LinearSVM(lr=0.001,lambda_param=0.01,n_iter=1000)\n",
        "svm.fit(X_train,y_train)\n",
        "y_pred = svm.predict(X_test)\n",
        "acc = accuracy_score(y_test,y_pred)\n",
        "print(\"SVM accuracy: \",acc)"
      ],
      "metadata": {
        "colab": {
          "base_uri": "https://localhost:8080/"
        },
        "id": "zRSWfFDSTSNe",
        "outputId": "4c4d13dc-d95c-4ce4-da23-2a4d73cb393c"
      },
      "execution_count": 22,
      "outputs": [
        {
          "output_type": "stream",
          "name": "stdout",
          "text": [
            "SVM accuracy:  0.47368421052631576\n"
          ]
        }
      ]
    }
  ]
}